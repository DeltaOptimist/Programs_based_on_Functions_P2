{
  "nbformat": 4,
  "nbformat_minor": 0,
  "metadata": {
    "colab": {
      "provenance": []
    },
    "kernelspec": {
      "name": "python3",
      "display_name": "Python 3"
    },
    "language_info": {
      "name": "python"
    }
  },
  "cells": [
    {
      "cell_type": "markdown",
      "source": [
        "Write a Program based on Functions."
      ],
      "metadata": {
        "id": "_zvamshjYS3m"
      }
    },
    {
      "cell_type": "markdown",
      "source": [
        "Exercise 1: Create a function in Python\n",
        "\n",
        "Exercise 2: Create a function with variable length of arguments\n",
        "\n",
        "Exercise 3: Return multiple values from a function\n",
        "\n",
        "Exercise 4: Create a function with a default argument\n",
        "\n",
        "Exercise 5: Create an inner function to calculate the addition in the following way"
      ],
      "metadata": {
        "id": "MKmsqauxYbws"
      }
    },
    {
      "cell_type": "markdown",
      "source": [
        "Exercise 1: Create a function in Python\n",
        "\n",
        "Write a program to create a function that takes two arguments, name and age, and print their value."
      ],
      "metadata": {
        "id": "14uBvKweYqPF"
      }
    },
    {
      "cell_type": "code",
      "execution_count": 1,
      "metadata": {
        "colab": {
          "base_uri": "https://localhost:8080/"
        },
        "id": "GL2yFijgXHmi",
        "outputId": "5afca781-2ffe-4744-aa3f-ab8133a6c8f3"
      },
      "outputs": [
        {
          "output_type": "stream",
          "name": "stdout",
          "text": [
            "Ben 25\n"
          ]
        }
      ],
      "source": [
        "# demo is the function name\n",
        "def demo(name, age):\n",
        "    # print value\n",
        "    print(name, age)\n",
        "\n",
        "# call function\n",
        "demo(\"Ben\", 25)"
      ]
    },
    {
      "cell_type": "markdown",
      "source": [
        "Exercise 2: Create a function with variable length of arguments\n",
        "\n",
        "Write a program to create function func1() to accept a variable length of arguments and print their value.\n",
        "\n",
        "Note: Create a function in such a way that we can pass any number of arguments to this function, and the function should process them and display each argument’s value."
      ],
      "metadata": {
        "id": "JNQTXNV4ZDuB"
      }
    },
    {
      "cell_type": "markdown",
      "source": [
        "Expected Output:\n",
        "\n",
        "Printing values\n",
        "\n",
        "20\n",
        "\n",
        "40\n",
        "\n",
        "60\n",
        "\n",
        "\n",
        "Printing values\n",
        "\n",
        "80\n",
        "\n",
        "100"
      ],
      "metadata": {
        "id": "MwrLMuFYZKBH"
      }
    },
    {
      "cell_type": "code",
      "source": [
        "def func1(*args):\n",
        "    for i in args:\n",
        "        print(i)\n",
        "\n",
        "print()\n",
        "print(\"1st Output\")\n",
        "func1(20, 40, 60)\n",
        "\n",
        "print()\n",
        "print(\"1st Output\")\n",
        "func1(80, 100)"
      ],
      "metadata": {
        "colab": {
          "base_uri": "https://localhost:8080/"
        },
        "id": "ZGHz8BzHYvrD",
        "outputId": "6eab51c6-6eec-4306-e02e-69471f7fda12"
      },
      "execution_count": 5,
      "outputs": [
        {
          "output_type": "stream",
          "name": "stdout",
          "text": [
            "\n",
            "1st Output\n",
            "20\n",
            "40\n",
            "60\n",
            "\n",
            "1st Output\n",
            "80\n",
            "100\n"
          ]
        }
      ]
    },
    {
      "cell_type": "markdown",
      "source": [
        "Exercise 3: Return multiple values from a function\n",
        "\n",
        "Write a program to create function calculation() such that it can accept two variables and calculate addition and subtraction. Also, it must return both addition and subtraction in a single return call."
      ],
      "metadata": {
        "id": "iAR33LEUZzW3"
      }
    },
    {
      "cell_type": "code",
      "source": [
        "def calculation(a, b):\n",
        "    addition = a + b\n",
        "    subtraction = a - b\n",
        "    # return multiple values separated by comma\n",
        "    return addition, subtraction\n",
        "\n",
        "# get result in tuple format\n",
        "res = calculation(40, 10)\n",
        "print(res)"
      ],
      "metadata": {
        "colab": {
          "base_uri": "https://localhost:8080/"
        },
        "id": "L--eYYIgZa0t",
        "outputId": "236abf14-79e8-4304-b8c3-1d0ed2d81e15"
      },
      "execution_count": 6,
      "outputs": [
        {
          "output_type": "stream",
          "name": "stdout",
          "text": [
            "(50, 30)\n"
          ]
        }
      ]
    },
    {
      "cell_type": "code",
      "source": [
        "def calculation(a, b):\n",
        "    return a + b, a - b\n",
        "\n",
        "\n",
        "# get result in tuple format\n",
        "# unpack tuple\n",
        "add, sub = calculation(40, 10)\n",
        "print(add, sub)"
      ],
      "metadata": {
        "colab": {
          "base_uri": "https://localhost:8080/"
        },
        "id": "kVz6xoUJaInu",
        "outputId": "045c5943-bdb8-43bc-e175-0ddb17cca75d"
      },
      "execution_count": 7,
      "outputs": [
        {
          "output_type": "stream",
          "name": "stdout",
          "text": [
            "50 30\n"
          ]
        }
      ]
    },
    {
      "cell_type": "markdown",
      "source": [
        "Exercise 4: Create a function with a default argument\n",
        "\n",
        "Write a program to create a function show_employee() using the following conditions.\n",
        "\n",
        "It should accept the employee’s name and salary and display both.\n",
        "\n",
        "If the salary is missing in the function call then assign default value 9000 to salary"
      ],
      "metadata": {
        "id": "xz8zAJ3maTsg"
      }
    },
    {
      "cell_type": "code",
      "source": [
        "# function with default argument\n",
        "def show_employee(name, salary=9000):\n",
        "    print(\"Name:\", name, \"salary:\", salary)\n",
        "\n",
        "show_employee(\"Ben\", 12000)\n",
        "show_employee(\"Jessa\")"
      ],
      "metadata": {
        "colab": {
          "base_uri": "https://localhost:8080/"
        },
        "id": "tsWykOwkaPP7",
        "outputId": "39820870-8bf3-434d-e838-b9d702af87f4"
      },
      "execution_count": 8,
      "outputs": [
        {
          "output_type": "stream",
          "name": "stdout",
          "text": [
            "Name: Ben salary: 12000\n",
            "Name: Jessa salary: 9000\n"
          ]
        }
      ]
    },
    {
      "cell_type": "markdown",
      "source": [
        "Exercise 5: Create an inner function to calculate the addition in the following way.\n",
        "\n",
        "Create an outer function that will accept two parameters, a and b\n",
        "\n",
        "Create an inner function inside an outer function that will calculate the addition of a and b\n",
        "\n",
        "At last, an outer function will add 5 into addition and return it"
      ],
      "metadata": {
        "id": "BxEnkbOXai7N"
      }
    },
    {
      "cell_type": "code",
      "source": [
        "# outer function\n",
        "def outer_fun(a, b):\n",
        "    square = a ** 2\n",
        "\n",
        "    # inner function\n",
        "    def addition(a, b):\n",
        "        return a + b\n",
        "\n",
        "    # call inner function from outer function\n",
        "    add = addition(a, b)\n",
        "    # add 5 to the result\n",
        "    return add + 5\n",
        "\n",
        "result = outer_fun(5, 10)\n",
        "print(result)"
      ],
      "metadata": {
        "colab": {
          "base_uri": "https://localhost:8080/"
        },
        "id": "kQhfoZHKad1K",
        "outputId": "cdbea956-ab90-40ab-8e02-d4396c450a06"
      },
      "execution_count": 9,
      "outputs": [
        {
          "output_type": "stream",
          "name": "stdout",
          "text": [
            "20\n"
          ]
        }
      ]
    },
    {
      "cell_type": "code",
      "source": [],
      "metadata": {
        "id": "Fyyd7ndSa6xm"
      },
      "execution_count": null,
      "outputs": []
    }
  ]
}